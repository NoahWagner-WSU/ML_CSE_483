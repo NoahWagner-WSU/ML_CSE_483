{
 "cells": [
  {
   "cell_type": "markdown",
   "id": "0a74020b-2b34-49ef-9252-ccff28f772d5",
   "metadata": {},
   "source": [
    "Name: Noah Wagner, Dataset: https://www.kaggle.com/datasets/whigmalwhim/steam-releases/"
   ]
  },
  {
   "cell_type": "code",
   "execution_count": 19,
   "id": "69229f36-23c5-420c-bd1c-7948faca6277",
   "metadata": {},
   "outputs": [],
   "source": [
    "import numpy as np\n",
    "import pandas as pd\n",
    "\n",
    "from sklearn.pipeline import Pipeline\n",
    "from sklearn.base import TransformerMixin, BaseEstimator\n",
    "from sklearn.model_selection import GridSearchCV\n",
    "from sklearn.preprocessing import MinMaxScaler\n",
    "from sklearn.ensemble import GradientBoostingClassifier"
   ]
  },
  {
   "cell_type": "code",
   "execution_count": 20,
   "id": "6787aee6-82fe-48e5-957d-8ebf6a268bdc",
   "metadata": {},
   "outputs": [
    {
     "name": "stdout",
     "output_type": "stream",
     "text": [
      "       release  peak_players  total_reviews  rating\n",
      "0     20230126          4529          20034   96.39\n",
      "1     20230324        168191          63368   95.75\n",
      "2     20230331         15543          12856   95.54\n",
      "3     20230328          1415          11926   95.39\n",
      "4     20230125          6132          14476   95.09\n",
      "...        ...           ...            ...     ...\n",
      "9995  20221104             1              3   67.06\n",
      "9996  20221111             2              3   67.06\n",
      "9997  20220905             2              3   67.06\n",
      "9998  20220804             1              3   67.06\n",
      "9999  20221107             5              3   67.06\n",
      "\n",
      "[10000 rows x 4 columns] 0        True\n",
      "1        True\n",
      "2        True\n",
      "3        True\n",
      "4        True\n",
      "        ...  \n",
      "9995    False\n",
      "9996    False\n",
      "9997    False\n",
      "9998    False\n",
      "9999    False\n",
      "Name: is_popular, Length: 10000, dtype: bool\n"
     ]
    }
   ],
   "source": [
    "data = pd.read_csv(\"game_data_trimmed.csv\")\n",
    "data = data[[\"release\", \"peak_players\", \"total_reviews\", \"rating\", \"players_right_now\"]]\n",
    "data.fillna(value=0, inplace = True)\n",
    "\n",
    "#edit players_right_now column to be numerical (has strings such as \"1,234\")\n",
    "data[\"players_right_now\"] = data[\"players_right_now\"].apply(lambda x: int(x.replace(\",\", \"\")) if isinstance(x, str) else x)\n",
    "#modify release dates to be numerical\n",
    "data[\"release\"] = data[\"release\"].apply(lambda x: int(x.replace(\"-\", \"\")))\n",
    "\n",
    "data[\"is_popular\"] = data[\"players_right_now\"] > 10\n",
    "\n",
    "xs = data[[\"release\", \"peak_players\", \"total_reviews\", \"rating\"]]\n",
    "ys = data[\"is_popular\"]\n",
    "\n",
    "print(xs, ys)"
   ]
  },
  {
   "cell_type": "code",
   "execution_count": 25,
   "id": "ddcff2d7-6897-4956-b599-ed5ec0c3d453",
   "metadata": {},
   "outputs": [
    {
     "data": {
      "text/html": [
       "<style>#sk-container-id-1 {color: black;background-color: white;}#sk-container-id-1 pre{padding: 0;}#sk-container-id-1 div.sk-toggleable {background-color: white;}#sk-container-id-1 label.sk-toggleable__label {cursor: pointer;display: block;width: 100%;margin-bottom: 0;padding: 0.3em;box-sizing: border-box;text-align: center;}#sk-container-id-1 label.sk-toggleable__label-arrow:before {content: \"▸\";float: left;margin-right: 0.25em;color: #696969;}#sk-container-id-1 label.sk-toggleable__label-arrow:hover:before {color: black;}#sk-container-id-1 div.sk-estimator:hover label.sk-toggleable__label-arrow:before {color: black;}#sk-container-id-1 div.sk-toggleable__content {max-height: 0;max-width: 0;overflow: hidden;text-align: left;background-color: #f0f8ff;}#sk-container-id-1 div.sk-toggleable__content pre {margin: 0.2em;color: black;border-radius: 0.25em;background-color: #f0f8ff;}#sk-container-id-1 input.sk-toggleable__control:checked~div.sk-toggleable__content {max-height: 200px;max-width: 100%;overflow: auto;}#sk-container-id-1 input.sk-toggleable__control:checked~label.sk-toggleable__label-arrow:before {content: \"▾\";}#sk-container-id-1 div.sk-estimator input.sk-toggleable__control:checked~label.sk-toggleable__label {background-color: #d4ebff;}#sk-container-id-1 div.sk-label input.sk-toggleable__control:checked~label.sk-toggleable__label {background-color: #d4ebff;}#sk-container-id-1 input.sk-hidden--visually {border: 0;clip: rect(1px 1px 1px 1px);clip: rect(1px, 1px, 1px, 1px);height: 1px;margin: -1px;overflow: hidden;padding: 0;position: absolute;width: 1px;}#sk-container-id-1 div.sk-estimator {font-family: monospace;background-color: #f0f8ff;border: 1px dotted black;border-radius: 0.25em;box-sizing: border-box;margin-bottom: 0.5em;}#sk-container-id-1 div.sk-estimator:hover {background-color: #d4ebff;}#sk-container-id-1 div.sk-parallel-item::after {content: \"\";width: 100%;border-bottom: 1px solid gray;flex-grow: 1;}#sk-container-id-1 div.sk-label:hover label.sk-toggleable__label {background-color: #d4ebff;}#sk-container-id-1 div.sk-serial::before {content: \"\";position: absolute;border-left: 1px solid gray;box-sizing: border-box;top: 0;bottom: 0;left: 50%;z-index: 0;}#sk-container-id-1 div.sk-serial {display: flex;flex-direction: column;align-items: center;background-color: white;padding-right: 0.2em;padding-left: 0.2em;position: relative;}#sk-container-id-1 div.sk-item {position: relative;z-index: 1;}#sk-container-id-1 div.sk-parallel {display: flex;align-items: stretch;justify-content: center;background-color: white;position: relative;}#sk-container-id-1 div.sk-item::before, #sk-container-id-1 div.sk-parallel-item::before {content: \"\";position: absolute;border-left: 1px solid gray;box-sizing: border-box;top: 0;bottom: 0;left: 50%;z-index: -1;}#sk-container-id-1 div.sk-parallel-item {display: flex;flex-direction: column;z-index: 1;position: relative;background-color: white;}#sk-container-id-1 div.sk-parallel-item:first-child::after {align-self: flex-end;width: 50%;}#sk-container-id-1 div.sk-parallel-item:last-child::after {align-self: flex-start;width: 50%;}#sk-container-id-1 div.sk-parallel-item:only-child::after {width: 0;}#sk-container-id-1 div.sk-dashed-wrapped {border: 1px dashed gray;margin: 0 0.4em 0.5em 0.4em;box-sizing: border-box;padding-bottom: 0.4em;background-color: white;}#sk-container-id-1 div.sk-label label {font-family: monospace;font-weight: bold;display: inline-block;line-height: 1.2em;}#sk-container-id-1 div.sk-label-container {text-align: center;}#sk-container-id-1 div.sk-container {/* jupyter's `normalize.less` sets `[hidden] { display: none; }` but bootstrap.min.css set `[hidden] { display: none !important; }` so we also need the `!important` here to be able to override the default hidden behavior on the sphinx rendered scikit-learn.org. See: https://github.com/scikit-learn/scikit-learn/issues/21755 */display: inline-block !important;position: relative;}#sk-container-id-1 div.sk-text-repr-fallback {display: none;}</style><div id=\"sk-container-id-1\" class=\"sk-top-container\"><div class=\"sk-text-repr-fallback\"><pre>GridSearchCV(estimator=Pipeline(steps=[(&#x27;scale&#x27;, MinMaxScaler()),\n",
       "                                       (&#x27;classify&#x27;,\n",
       "                                        GradientBoostingClassifier())]),\n",
       "             n_jobs=-1,\n",
       "             param_grid={&#x27;classify__learning_rate&#x27;: [0.05, 0.1, 0.2],\n",
       "                         &#x27;classify__max_depth&#x27;: [2, 3, 4, 5, 6],\n",
       "                         &#x27;classify__max_features&#x27;: [2, 3, 4]},\n",
       "             scoring=&#x27;f1&#x27;)</pre><b>In a Jupyter environment, please rerun this cell to show the HTML representation or trust the notebook. <br />On GitHub, the HTML representation is unable to render, please try loading this page with nbviewer.org.</b></div><div class=\"sk-container\" hidden><div class=\"sk-item sk-dashed-wrapped\"><div class=\"sk-label-container\"><div class=\"sk-label sk-toggleable\"><input class=\"sk-toggleable__control sk-hidden--visually\" id=\"sk-estimator-id-1\" type=\"checkbox\" ><label for=\"sk-estimator-id-1\" class=\"sk-toggleable__label sk-toggleable__label-arrow\">GridSearchCV</label><div class=\"sk-toggleable__content\"><pre>GridSearchCV(estimator=Pipeline(steps=[(&#x27;scale&#x27;, MinMaxScaler()),\n",
       "                                       (&#x27;classify&#x27;,\n",
       "                                        GradientBoostingClassifier())]),\n",
       "             n_jobs=-1,\n",
       "             param_grid={&#x27;classify__learning_rate&#x27;: [0.05, 0.1, 0.2],\n",
       "                         &#x27;classify__max_depth&#x27;: [2, 3, 4, 5, 6],\n",
       "                         &#x27;classify__max_features&#x27;: [2, 3, 4]},\n",
       "             scoring=&#x27;f1&#x27;)</pre></div></div></div><div class=\"sk-parallel\"><div class=\"sk-parallel-item\"><div class=\"sk-item\"><div class=\"sk-label-container\"><div class=\"sk-label sk-toggleable\"><input class=\"sk-toggleable__control sk-hidden--visually\" id=\"sk-estimator-id-2\" type=\"checkbox\" ><label for=\"sk-estimator-id-2\" class=\"sk-toggleable__label sk-toggleable__label-arrow\">estimator: Pipeline</label><div class=\"sk-toggleable__content\"><pre>Pipeline(steps=[(&#x27;scale&#x27;, MinMaxScaler()),\n",
       "                (&#x27;classify&#x27;, GradientBoostingClassifier())])</pre></div></div></div><div class=\"sk-serial\"><div class=\"sk-item\"><div class=\"sk-serial\"><div class=\"sk-item\"><div class=\"sk-estimator sk-toggleable\"><input class=\"sk-toggleable__control sk-hidden--visually\" id=\"sk-estimator-id-3\" type=\"checkbox\" ><label for=\"sk-estimator-id-3\" class=\"sk-toggleable__label sk-toggleable__label-arrow\">MinMaxScaler</label><div class=\"sk-toggleable__content\"><pre>MinMaxScaler()</pre></div></div></div><div class=\"sk-item\"><div class=\"sk-estimator sk-toggleable\"><input class=\"sk-toggleable__control sk-hidden--visually\" id=\"sk-estimator-id-4\" type=\"checkbox\" ><label for=\"sk-estimator-id-4\" class=\"sk-toggleable__label sk-toggleable__label-arrow\">GradientBoostingClassifier</label><div class=\"sk-toggleable__content\"><pre>GradientBoostingClassifier()</pre></div></div></div></div></div></div></div></div></div></div></div></div>"
      ],
      "text/plain": [
       "GridSearchCV(estimator=Pipeline(steps=[('scale', MinMaxScaler()),\n",
       "                                       ('classify',\n",
       "                                        GradientBoostingClassifier())]),\n",
       "             n_jobs=-1,\n",
       "             param_grid={'classify__learning_rate': [0.05, 0.1, 0.2],\n",
       "                         'classify__max_depth': [2, 3, 4, 5, 6],\n",
       "                         'classify__max_features': [2, 3, 4]},\n",
       "             scoring='f1')"
      ]
     },
     "execution_count": 25,
     "metadata": {},
     "output_type": "execute_result"
    }
   ],
   "source": [
    "steps = [\n",
    "    (\"scale\", MinMaxScaler()),\n",
    "    (\"classify\", GradientBoostingClassifier())\n",
    "]\n",
    "pipe = Pipeline(steps)\n",
    "\n",
    "grid = {\n",
    "\t\"classify__max_depth\": [2, 3, 4, 5, 6],\n",
    "    \"classify__max_features\": [2, 3, 4],\n",
    "\t\"classify__learning_rate\": [0.05, 0.1, 0.2],\n",
    "}\n",
    "\n",
    "search = GridSearchCV(pipe, grid, scoring = \"f1\", n_jobs=-1)\n",
    "\n",
    "search.fit(xs, ys)"
   ]
  },
  {
   "cell_type": "code",
   "execution_count": 26,
   "id": "e298ac63-c7ec-4b4e-8762-ae32efb7c8be",
   "metadata": {},
   "outputs": [
    {
     "name": "stdout",
     "output_type": "stream",
     "text": [
      "0.6624663063322842\n",
      "{'classify__learning_rate': 0.05, 'classify__max_depth': 2, 'classify__max_features': 2}\n"
     ]
    }
   ],
   "source": [
    "print(search.best_score_)\n",
    "print(search.best_params_)"
   ]
  },
  {
   "cell_type": "markdown",
   "id": "05b6dc7c-242c-4085-85d4-6098dfe9b73b",
   "metadata": {},
   "source": [
    "## Unlike in test 1, this time we used cross validation. If we went back to the train/test split we used before, would you expect your chosen metric to increase or decrease?\n",
    "## Why did you choose this metric? Why is it appropriate for your classification task and data?\n",
    "## Why do you think the hyperparameters that were selected by the grid were optimal? Were any of the results surprising? Why or why not?"
   ]
  },
  {
   "cell_type": "code",
   "execution_count": null,
   "id": "15f42e18-add1-4161-828b-c7343ae70d47",
   "metadata": {},
   "outputs": [],
   "source": []
  }
 ],
 "metadata": {
  "kernelspec": {
   "display_name": "machine learning",
   "language": "python",
   "name": "machine_learning"
  },
  "language_info": {
   "codemirror_mode": {
    "name": "ipython",
    "version": 3
   },
   "file_extension": ".py",
   "mimetype": "text/x-python",
   "name": "python",
   "nbconvert_exporter": "python",
   "pygments_lexer": "ipython3",
   "version": "3.11.5"
  }
 },
 "nbformat": 4,
 "nbformat_minor": 5
}
