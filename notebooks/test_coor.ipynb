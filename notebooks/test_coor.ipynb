{
 "cells": [
  {
   "cell_type": "markdown",
   "id": "80fccc2d-a7b7-47e6-a6f5-85e2703252af",
   "metadata": {},
   "source": [
    "# Assignment 2 Notebook"
   ]
  },
  {
   "cell_type": "markdown",
   "id": "e5b08198-35b4-4e36-aee2-b43e2d35fae4",
   "metadata": {},
   "source": [
    "## Notes"
   ]
  },
  {
   "cell_type": "code",
   "execution_count": 6,
   "id": "dd85f669-ea7e-45c2-af42-3a1dc08fa917",
   "metadata": {},
   "outputs": [],
   "source": [
    "import numpy as np"
   ]
  },
  {
   "cell_type": "code",
   "execution_count": 7,
   "id": "bfe3218c-08cb-43ec-a3cd-a01db3974953",
   "metadata": {},
   "outputs": [],
   "source": [
    "import pandas as pd"
   ]
  },
  {
   "cell_type": "code",
   "execution_count": 8,
   "id": "d8f695d2-835d-4a40-b61e-6ba482993510",
   "metadata": {},
   "outputs": [],
   "source": [
    "data = pd.read_csv(\"Exam1/game_data_trimmed.csv\")"
   ]
  },
  {
   "cell_type": "code",
   "execution_count": 9,
   "id": "60f2a042-c78d-4133-838c-791842266d25",
   "metadata": {},
   "outputs": [],
   "source": [
    "data = data[[\"release\", \"peak_players\", \"total_reviews\", \"rating\", \"players_right_now\"]]\n",
    "data.fillna(value=0, inplace = True)\n",
    "\n",
    "#edit players_right_now column to be numerical (has strings such as \"1,234\")\n",
    "data[\"players_right_now\"] = data[\"players_right_now\"].apply(lambda x: int(x.replace(\",\", \"\")) if isinstance(x, str) else x)\n",
    "\n",
    "#modify release dates to be numerical\n",
    "data[\"release\"] = data[\"release\"].apply(lambda x: int(x.replace(\"-\", \"\")))"
   ]
  },
  {
   "cell_type": "markdown",
   "id": "e4edef5a-030b-4083-8de2-aee541ad1735",
   "metadata": {},
   "source": [
    "## Coorelation Table"
   ]
  },
  {
   "cell_type": "code",
   "execution_count": 10,
   "id": "3b29eb95-4a0f-47dc-83e6-d03fa29ec7da",
   "metadata": {},
   "outputs": [],
   "source": [
    "import matplotlib.pyplot as plt"
   ]
  },
  {
   "cell_type": "code",
   "execution_count": 11,
   "id": "ec14c6d6-a3ae-4375-8731-deae1f4883b3",
   "metadata": {},
   "outputs": [],
   "source": [
    "corr = data.corr()"
   ]
  },
  {
   "cell_type": "code",
   "execution_count": 12,
   "id": "f5ecff2c-2643-44d4-9343-eadae9008b8c",
   "metadata": {},
   "outputs": [
    {
     "data": {
      "text/html": [
       "<style type=\"text/css\">\n",
       "#T_6b43c_row0_col0, #T_6b43c_row1_col1, #T_6b43c_row2_col2, #T_6b43c_row3_col3, #T_6b43c_row4_col4 {\n",
       "  background-color: #b40426;\n",
       "  color: #f1f1f1;\n",
       "}\n",
       "#T_6b43c_row0_col1, #T_6b43c_row0_col2, #T_6b43c_row0_col3, #T_6b43c_row0_col4, #T_6b43c_row3_col0 {\n",
       "  background-color: #3b4cc0;\n",
       "  color: #f1f1f1;\n",
       "}\n",
       "#T_6b43c_row1_col0 {\n",
       "  background-color: #4e68d8;\n",
       "  color: #f1f1f1;\n",
       "}\n",
       "#T_6b43c_row1_col2, #T_6b43c_row2_col1 {\n",
       "  background-color: #f4987a;\n",
       "  color: #000000;\n",
       "}\n",
       "#T_6b43c_row1_col3 {\n",
       "  background-color: #5b7ae5;\n",
       "  color: #f1f1f1;\n",
       "}\n",
       "#T_6b43c_row1_col4, #T_6b43c_row4_col1 {\n",
       "  background-color: #f5a081;\n",
       "  color: #000000;\n",
       "}\n",
       "#T_6b43c_row2_col0, #T_6b43c_row3_col4 {\n",
       "  background-color: #4b64d5;\n",
       "  color: #f1f1f1;\n",
       "}\n",
       "#T_6b43c_row2_col3 {\n",
       "  background-color: #6b8df0;\n",
       "  color: #f1f1f1;\n",
       "}\n",
       "#T_6b43c_row2_col4 {\n",
       "  background-color: #f1ccb8;\n",
       "  color: #000000;\n",
       "}\n",
       "#T_6b43c_row3_col1 {\n",
       "  background-color: #485fd1;\n",
       "  color: #f1f1f1;\n",
       "}\n",
       "#T_6b43c_row3_col2 {\n",
       "  background-color: #5a78e4;\n",
       "  color: #f1f1f1;\n",
       "}\n",
       "#T_6b43c_row4_col0 {\n",
       "  background-color: #4f69d9;\n",
       "  color: #f1f1f1;\n",
       "}\n",
       "#T_6b43c_row4_col2 {\n",
       "  background-color: #f2cbb7;\n",
       "  color: #000000;\n",
       "}\n",
       "#T_6b43c_row4_col3 {\n",
       "  background-color: #5f7fe8;\n",
       "  color: #f1f1f1;\n",
       "}\n",
       "</style>\n",
       "<table id=\"T_6b43c\">\n",
       "  <thead>\n",
       "    <tr>\n",
       "      <th class=\"blank level0\" >&nbsp;</th>\n",
       "      <th id=\"T_6b43c_level0_col0\" class=\"col_heading level0 col0\" >release</th>\n",
       "      <th id=\"T_6b43c_level0_col1\" class=\"col_heading level0 col1\" >peak_players</th>\n",
       "      <th id=\"T_6b43c_level0_col2\" class=\"col_heading level0 col2\" >total_reviews</th>\n",
       "      <th id=\"T_6b43c_level0_col3\" class=\"col_heading level0 col3\" >rating</th>\n",
       "      <th id=\"T_6b43c_level0_col4\" class=\"col_heading level0 col4\" >players_right_now</th>\n",
       "    </tr>\n",
       "  </thead>\n",
       "  <tbody>\n",
       "    <tr>\n",
       "      <th id=\"T_6b43c_level0_row0\" class=\"row_heading level0 row0\" >release</th>\n",
       "      <td id=\"T_6b43c_row0_col0\" class=\"data row0 col0\" >1.000000</td>\n",
       "      <td id=\"T_6b43c_row0_col1\" class=\"data row0 col1\" >0.000036</td>\n",
       "      <td id=\"T_6b43c_row0_col2\" class=\"data row0 col2\" >-0.010852</td>\n",
       "      <td id=\"T_6b43c_row0_col3\" class=\"data row0 col3\" >-0.070690</td>\n",
       "      <td id=\"T_6b43c_row0_col4\" class=\"data row0 col4\" >0.003010</td>\n",
       "    </tr>\n",
       "    <tr>\n",
       "      <th id=\"T_6b43c_level0_row1\" class=\"row_heading level0 row1\" >peak_players</th>\n",
       "      <td id=\"T_6b43c_row1_col0\" class=\"data row1 col0\" >0.000036</td>\n",
       "      <td id=\"T_6b43c_row1_col1\" class=\"data row1 col1\" >1.000000</td>\n",
       "      <td id=\"T_6b43c_row1_col2\" class=\"data row1 col2\" >0.750827</td>\n",
       "      <td id=\"T_6b43c_row1_col3\" class=\"data row1 col3\" >0.043625</td>\n",
       "      <td id=\"T_6b43c_row1_col4\" class=\"data row1 col4\" >0.733219</td>\n",
       "    </tr>\n",
       "    <tr>\n",
       "      <th id=\"T_6b43c_level0_row2\" class=\"row_heading level0 row2\" >total_reviews</th>\n",
       "      <td id=\"T_6b43c_row2_col0\" class=\"data row2 col0\" >-0.010852</td>\n",
       "      <td id=\"T_6b43c_row2_col1\" class=\"data row2 col1\" >0.750827</td>\n",
       "      <td id=\"T_6b43c_row2_col2\" class=\"data row2 col2\" >1.000000</td>\n",
       "      <td id=\"T_6b43c_row2_col3\" class=\"data row2 col3\" >0.094231</td>\n",
       "      <td id=\"T_6b43c_row2_col4\" class=\"data row2 col4\" >0.595368</td>\n",
       "    </tr>\n",
       "    <tr>\n",
       "      <th id=\"T_6b43c_level0_row3\" class=\"row_heading level0 row3\" >rating</th>\n",
       "      <td id=\"T_6b43c_row3_col0\" class=\"data row3 col0\" >-0.070690</td>\n",
       "      <td id=\"T_6b43c_row3_col1\" class=\"data row3 col1\" >0.043625</td>\n",
       "      <td id=\"T_6b43c_row3_col2\" class=\"data row3 col2\" >0.094231</td>\n",
       "      <td id=\"T_6b43c_row3_col3\" class=\"data row3 col3\" >1.000000</td>\n",
       "      <td id=\"T_6b43c_row3_col4\" class=\"data row3 col4\" >0.058845</td>\n",
       "    </tr>\n",
       "    <tr>\n",
       "      <th id=\"T_6b43c_level0_row4\" class=\"row_heading level0 row4\" >players_right_now</th>\n",
       "      <td id=\"T_6b43c_row4_col0\" class=\"data row4 col0\" >0.003010</td>\n",
       "      <td id=\"T_6b43c_row4_col1\" class=\"data row4 col1\" >0.733219</td>\n",
       "      <td id=\"T_6b43c_row4_col2\" class=\"data row4 col2\" >0.595368</td>\n",
       "      <td id=\"T_6b43c_row4_col3\" class=\"data row4 col3\" >0.058845</td>\n",
       "      <td id=\"T_6b43c_row4_col4\" class=\"data row4 col4\" >1.000000</td>\n",
       "    </tr>\n",
       "  </tbody>\n",
       "</table>\n"
      ],
      "text/plain": [
       "<pandas.io.formats.style.Styler at 0x127ded450>"
      ]
     },
     "execution_count": 12,
     "metadata": {},
     "output_type": "execute_result"
    }
   ],
   "source": [
    "corr.style.background_gradient(cmap = \"coolwarm\")"
   ]
  },
  {
   "cell_type": "code",
   "execution_count": null,
   "id": "792df278-faa6-4dfa-8ce7-b2fa83a5dfee",
   "metadata": {},
   "outputs": [],
   "source": []
  }
 ],
 "metadata": {
  "kernelspec": {
   "display_name": "Python [conda env:machine_learning]",
   "language": "python",
   "name": "conda-env-machine_learning-py"
  },
  "language_info": {
   "codemirror_mode": {
    "name": "ipython",
    "version": 3
   },
   "file_extension": ".py",
   "mimetype": "text/x-python",
   "name": "python",
   "nbconvert_exporter": "python",
   "pygments_lexer": "ipython3",
   "version": "3.11.5"
  }
 },
 "nbformat": 4,
 "nbformat_minor": 5
}
