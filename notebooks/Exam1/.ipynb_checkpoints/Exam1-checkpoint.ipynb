{
 "cells": [
  {
   "cell_type": "markdown",
   "id": "9c134819-1505-4d2d-bfc0-0eb27f8111a5",
   "metadata": {},
   "source": [
    "Name: Noah Wagner, \n",
    "Dataset: https://www.kaggle.com/datasets/whigmalwhim/steam-releases/"
   ]
  },
  {
   "cell_type": "code",
   "execution_count": 1,
   "id": "7f0b131e-c272-45c5-a156-bf96007187e9",
   "metadata": {},
   "outputs": [],
   "source": [
    "import numpy as np\n",
    "import pandas as pd\n",
    "\n",
    "from sklearn.linear_model import LinearRegression\n",
    "from sklearn.pipeline import Pipeline\n",
    "from sklearn.base import TransformerMixin, BaseEstimator\n",
    "from sklearn.model_selection import train_test_split\n",
    "from sklearn.preprocessing import MinMaxScaler\n",
    "from sklearn.metrics import r2_score"
   ]
  },
  {
   "cell_type": "code",
   "execution_count": 2,
   "id": "ac5a6029-ba44-44f6-8d01-eb1ddc17427c",
   "metadata": {},
   "outputs": [
    {
     "name": "stdout",
     "output_type": "stream",
     "text": [
      "       release  peak_players  total_reviews  rating\n",
      "357   20230317            12             36   81.30\n",
      "1759  20230127             3              3   67.06\n",
      "7378  20220325             3              7   73.26\n",
      "2054  20230203             1              2   64.08\n",
      "5737  20221108            17             15   78.30\n",
      "...        ...           ...            ...     ...\n",
      "3956  20220318            85            304   86.74\n",
      "5196  20221007            11             20   80.00\n",
      "7531  20220301             4             34   73.19\n",
      "2911  20230220             3              3   55.69\n",
      "2353  20230119             2             11   61.97\n",
      "\n",
      "[7000 rows x 4 columns]        release  peak_players  total_reviews  rating\n",
      "433   20230309             7             30   80.07\n",
      "2308  20230105             4              5   62.51\n",
      "9513  20220914             4              8   68.15\n",
      "3313  20230126             1              1   40.58\n",
      "8202  20220211       1325305         191273   71.29\n",
      "...        ...           ...            ...     ...\n",
      "8939  20220617            10             30   69.33\n",
      "2361  20230206             1             14   61.95\n",
      "7695  20221020             6             12   72.42\n",
      "6602  20220709           487             80   75.68\n",
      "3205  20230306             1              5   45.83\n",
      "\n",
      "[3000 rows x 4 columns] 357     0\n",
      "1759    0\n",
      "7378    0\n",
      "2054    0\n",
      "5737    0\n",
      "       ..\n",
      "3956    1\n",
      "5196    0\n",
      "7531    0\n",
      "2911    0\n",
      "2353    0\n",
      "Name: players_right_now, Length: 7000, dtype: int64 433         0\n",
      "2308        0\n",
      "9513        0\n",
      "3313        0\n",
      "8202    76246\n",
      "        ...  \n",
      "8939        0\n",
      "2361        0\n",
      "7695        0\n",
      "6602        1\n",
      "3205        0\n",
      "Name: players_right_now, Length: 3000, dtype: int64\n"
     ]
    }
   ],
   "source": [
    "data = pd.read_csv(\"game_data_trimmed.csv\")\n",
    "data = data[[\"release\", \"peak_players\", \"total_reviews\", \"rating\", \"players_right_now\"]]\n",
    "data.fillna(value=0, inplace = True)\n",
    "\n",
    "#edit players_right_now column to be numerical (has strings such as \"1,234\")\n",
    "data[\"players_right_now\"] = data[\"players_right_now\"].apply(lambda x: int(x.replace(\",\", \"\")) if isinstance(x, str) else x)\n",
    "\n",
    "#modify release dates to be numerical\n",
    "data[\"release\"] = data[\"release\"].apply(lambda x: int(x.replace(\"-\", \"\")))\n",
    "\n",
    "xs = data.drop(columns = [\"players_right_now\"])\n",
    "ys = data[\"players_right_now\"]\n",
    "\n",
    "train_x, test_x, train_y, test_y = train_test_split( xs, ys, train_size = 0.7)\n",
    "print(train_x, test_x, train_y, test_y)"
   ]
  },
  {
   "cell_type": "code",
   "execution_count": 3,
   "id": "69b4b49d-a09c-4d22-be28-82a2d435d6d3",
   "metadata": {},
   "outputs": [
    {
     "data": {
      "text/html": [
       "<style>#sk-container-id-1 {color: black;background-color: white;}#sk-container-id-1 pre{padding: 0;}#sk-container-id-1 div.sk-toggleable {background-color: white;}#sk-container-id-1 label.sk-toggleable__label {cursor: pointer;display: block;width: 100%;margin-bottom: 0;padding: 0.3em;box-sizing: border-box;text-align: center;}#sk-container-id-1 label.sk-toggleable__label-arrow:before {content: \"▸\";float: left;margin-right: 0.25em;color: #696969;}#sk-container-id-1 label.sk-toggleable__label-arrow:hover:before {color: black;}#sk-container-id-1 div.sk-estimator:hover label.sk-toggleable__label-arrow:before {color: black;}#sk-container-id-1 div.sk-toggleable__content {max-height: 0;max-width: 0;overflow: hidden;text-align: left;background-color: #f0f8ff;}#sk-container-id-1 div.sk-toggleable__content pre {margin: 0.2em;color: black;border-radius: 0.25em;background-color: #f0f8ff;}#sk-container-id-1 input.sk-toggleable__control:checked~div.sk-toggleable__content {max-height: 200px;max-width: 100%;overflow: auto;}#sk-container-id-1 input.sk-toggleable__control:checked~label.sk-toggleable__label-arrow:before {content: \"▾\";}#sk-container-id-1 div.sk-estimator input.sk-toggleable__control:checked~label.sk-toggleable__label {background-color: #d4ebff;}#sk-container-id-1 div.sk-label input.sk-toggleable__control:checked~label.sk-toggleable__label {background-color: #d4ebff;}#sk-container-id-1 input.sk-hidden--visually {border: 0;clip: rect(1px 1px 1px 1px);clip: rect(1px, 1px, 1px, 1px);height: 1px;margin: -1px;overflow: hidden;padding: 0;position: absolute;width: 1px;}#sk-container-id-1 div.sk-estimator {font-family: monospace;background-color: #f0f8ff;border: 1px dotted black;border-radius: 0.25em;box-sizing: border-box;margin-bottom: 0.5em;}#sk-container-id-1 div.sk-estimator:hover {background-color: #d4ebff;}#sk-container-id-1 div.sk-parallel-item::after {content: \"\";width: 100%;border-bottom: 1px solid gray;flex-grow: 1;}#sk-container-id-1 div.sk-label:hover label.sk-toggleable__label {background-color: #d4ebff;}#sk-container-id-1 div.sk-serial::before {content: \"\";position: absolute;border-left: 1px solid gray;box-sizing: border-box;top: 0;bottom: 0;left: 50%;z-index: 0;}#sk-container-id-1 div.sk-serial {display: flex;flex-direction: column;align-items: center;background-color: white;padding-right: 0.2em;padding-left: 0.2em;position: relative;}#sk-container-id-1 div.sk-item {position: relative;z-index: 1;}#sk-container-id-1 div.sk-parallel {display: flex;align-items: stretch;justify-content: center;background-color: white;position: relative;}#sk-container-id-1 div.sk-item::before, #sk-container-id-1 div.sk-parallel-item::before {content: \"\";position: absolute;border-left: 1px solid gray;box-sizing: border-box;top: 0;bottom: 0;left: 50%;z-index: -1;}#sk-container-id-1 div.sk-parallel-item {display: flex;flex-direction: column;z-index: 1;position: relative;background-color: white;}#sk-container-id-1 div.sk-parallel-item:first-child::after {align-self: flex-end;width: 50%;}#sk-container-id-1 div.sk-parallel-item:last-child::after {align-self: flex-start;width: 50%;}#sk-container-id-1 div.sk-parallel-item:only-child::after {width: 0;}#sk-container-id-1 div.sk-dashed-wrapped {border: 1px dashed gray;margin: 0 0.4em 0.5em 0.4em;box-sizing: border-box;padding-bottom: 0.4em;background-color: white;}#sk-container-id-1 div.sk-label label {font-family: monospace;font-weight: bold;display: inline-block;line-height: 1.2em;}#sk-container-id-1 div.sk-label-container {text-align: center;}#sk-container-id-1 div.sk-container {/* jupyter's `normalize.less` sets `[hidden] { display: none; }` but bootstrap.min.css set `[hidden] { display: none !important; }` so we also need the `!important` here to be able to override the default hidden behavior on the sphinx rendered scikit-learn.org. See: https://github.com/scikit-learn/scikit-learn/issues/21755 */display: inline-block !important;position: relative;}#sk-container-id-1 div.sk-text-repr-fallback {display: none;}</style><div id=\"sk-container-id-1\" class=\"sk-top-container\"><div class=\"sk-text-repr-fallback\"><pre>Pipeline(steps=[(&#x27;minmax&#x27;, MinMaxScaler()),\n",
       "                (&#x27;predict&#x27;, LinearRegression(n_jobs=-1))])</pre><b>In a Jupyter environment, please rerun this cell to show the HTML representation or trust the notebook. <br />On GitHub, the HTML representation is unable to render, please try loading this page with nbviewer.org.</b></div><div class=\"sk-container\" hidden><div class=\"sk-item sk-dashed-wrapped\"><div class=\"sk-label-container\"><div class=\"sk-label sk-toggleable\"><input class=\"sk-toggleable__control sk-hidden--visually\" id=\"sk-estimator-id-1\" type=\"checkbox\" ><label for=\"sk-estimator-id-1\" class=\"sk-toggleable__label sk-toggleable__label-arrow\">Pipeline</label><div class=\"sk-toggleable__content\"><pre>Pipeline(steps=[(&#x27;minmax&#x27;, MinMaxScaler()),\n",
       "                (&#x27;predict&#x27;, LinearRegression(n_jobs=-1))])</pre></div></div></div><div class=\"sk-serial\"><div class=\"sk-item\"><div class=\"sk-estimator sk-toggleable\"><input class=\"sk-toggleable__control sk-hidden--visually\" id=\"sk-estimator-id-2\" type=\"checkbox\" ><label for=\"sk-estimator-id-2\" class=\"sk-toggleable__label sk-toggleable__label-arrow\">MinMaxScaler</label><div class=\"sk-toggleable__content\"><pre>MinMaxScaler()</pre></div></div></div><div class=\"sk-item\"><div class=\"sk-estimator sk-toggleable\"><input class=\"sk-toggleable__control sk-hidden--visually\" id=\"sk-estimator-id-3\" type=\"checkbox\" ><label for=\"sk-estimator-id-3\" class=\"sk-toggleable__label sk-toggleable__label-arrow\">LinearRegression</label><div class=\"sk-toggleable__content\"><pre>LinearRegression(n_jobs=-1)</pre></div></div></div></div></div></div></div>"
      ],
      "text/plain": [
       "Pipeline(steps=[('minmax', MinMaxScaler()),\n",
       "                ('predict', LinearRegression(n_jobs=-1))])"
      ]
     },
     "execution_count": 3,
     "metadata": {},
     "output_type": "execute_result"
    }
   ],
   "source": [
    "steps = [\n",
    "    (\"minmax\", MinMaxScaler()),\n",
    "    (\"predict\", LinearRegression(n_jobs=-1))\n",
    "]\n",
    "\n",
    "pipline = Pipeline(steps)\n",
    "\n",
    "pipline.fit(train_x, train_y)"
   ]
  },
  {
   "cell_type": "code",
   "execution_count": 4,
   "id": "3f76076d-e2d4-4c71-8100-e7001ca68272",
   "metadata": {},
   "outputs": [
    {
     "data": {
      "text/plain": [
       "0.5733298808808963"
      ]
     },
     "execution_count": 4,
     "metadata": {},
     "output_type": "execute_result"
    }
   ],
   "source": [
    "predict_y = pipline.predict(test_x)\n",
    "r2_score(test_y, predict_y)"
   ]
  },
  {
   "cell_type": "markdown",
   "id": "04ac4a1e-3372-4fbc-ac1c-003183b662eb",
   "metadata": {},
   "source": [
    "### Why I chose the feature columns\n",
    "The target column describes how many players are currently playing a given game. Below is the rationale for why I included each feature column.\n",
    "- __release__: Usually older games have fewer players, so I was hoping the model to be able to learn that the lower the date is, the lower the current player could is likely to be.\n",
    "- __peak_players__: If games have had many players at one point, there is a likely chance that the current amount of players could be some fraction of that. I was expecting the model to learn a positive relationship between this feature and the target.\n",
    "- __total_reviews__: Peak_players is not enough however. Some games get really popular, but the replayability is low, so player count dies out. This would lead to a low total_review count. I was hoping this feature would help with edge cases where games get really popular, but die out quickly. The more the reviews for a game there are, the more likely it is to still have players.\n",
    "- __rating__: If a game isn't fun, people are less likely to keep playing. I expected to model to learn a positive coorelation between rating and current player count."
   ]
  }
 ],
 "metadata": {
  "kernelspec": {
   "display_name": "Python [conda env:machine_learning]",
   "language": "python",
   "name": "conda-env-machine_learning-py"
  },
  "language_info": {
   "codemirror_mode": {
    "name": "ipython",
    "version": 3
   },
   "file_extension": ".py",
   "mimetype": "text/x-python",
   "name": "python",
   "nbconvert_exporter": "python",
   "pygments_lexer": "ipython3",
   "version": "3.11.5"
  }
 },
 "nbformat": 4,
 "nbformat_minor": 5
}
