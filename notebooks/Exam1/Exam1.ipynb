{
 "cells": [
  {
   "cell_type": "markdown",
   "id": "9c134819-1505-4d2d-bfc0-0eb27f8111a5",
   "metadata": {},
   "source": [
    "Name: Noah Wagner, \n",
    "Dataset: https://www.kaggle.com/datasets/whigmalwhim/steam-releases/"
   ]
  },
  {
   "cell_type": "code",
   "execution_count": 13,
   "id": "7f0b131e-c272-45c5-a156-bf96007187e9",
   "metadata": {},
   "outputs": [],
   "source": [
    "import numpy as np\n",
    "import pandas as pd\n",
    "\n",
    "from sklearn.linear_model import LinearRegression\n",
    "from sklearn.pipeline import Pipeline\n",
    "from sklearn.base import TransformerMixin, BaseEstimator\n",
    "from sklearn.model_selection import train_test_split\n",
    "from sklearn.preprocessing import MinMaxScaler\n",
    "from sklearn.metrics import r2_score"
   ]
  },
  {
   "cell_type": "code",
   "execution_count": 14,
   "id": "ac5a6029-ba44-44f6-8d01-eb1ddc17427c",
   "metadata": {},
   "outputs": [
    {
     "name": "stdout",
     "output_type": "stream",
     "text": [
      "       release  peak_players  total_reviews  rating\n",
      "7858  20220301             4              6   72.17\n",
      "4427  20221118            39            147   83.60\n",
      "859   20230217             2             10   75.71\n",
      "2853  20230215            12             16   57.17\n",
      "3814  20220711           360            451   87.96\n",
      "...        ...           ...            ...     ...\n",
      "3967  20220927         32012          55113   86.64\n",
      "6844  20220726             4              9   75.00\n",
      "5419  20221013             8             35   79.23\n",
      "89    20230331            16             91   87.18\n",
      "3554  20221222           117           1420   92.31\n",
      "\n",
      "[7000 rows x 4 columns]        release  peak_players  total_reviews  rating\n",
      "1350  20230102             1              5   70.84\n",
      "2093  20230331             3              2   64.08\n",
      "5521  20220830            71             48   78.75\n",
      "4734  20220706            62            200   81.90\n",
      "8314  20220802             2              5   70.84\n",
      "...        ...           ...            ...     ...\n",
      "7074  20220910             4              8   74.19\n",
      "6132  20220118           721           1794   77.00\n",
      "6190  20211201             3              2   35.92\n",
      "9057  20220506             4              4   69.20\n",
      "8532  20220120             3             24   70.68\n",
      "\n",
      "[3000 rows x 4 columns] 7858       0\n",
      "4427       0\n",
      "859        0\n",
      "2853       0\n",
      "3814       5\n",
      "        ... \n",
      "3967    5934\n",
      "6844       0\n",
      "5419       0\n",
      "89         0\n",
      "3554       6\n",
      "Name: players_right_now, Length: 7000, dtype: int64 1350     0\n",
      "2093     0\n",
      "5521     4\n",
      "4734     5\n",
      "8314     0\n",
      "        ..\n",
      "7074     0\n",
      "6132    18\n",
      "6190     0\n",
      "9057     0\n",
      "8532     0\n",
      "Name: players_right_now, Length: 3000, dtype: int64\n"
     ]
    }
   ],
   "source": [
    "data = pd.read_csv(\"game_data_trimmed.csv\")\n",
    "data = data[[\"release\", \"peak_players\", \"total_reviews\", \"rating\", \"players_right_now\"]]\n",
    "data.fillna(value=0, inplace = True)\n",
    "\n",
    "#edit players_right_now column to be numerical (has strings such as \"1,234\")\n",
    "data[\"players_right_now\"] = data[\"players_right_now\"].apply(lambda x: int(x.replace(\",\", \"\")) if isinstance(x, str) else x)\n",
    "\n",
    "#modify release dates to be numerical\n",
    "data[\"release\"] = data[\"release\"].apply(lambda x: int(x.replace(\"-\", \"\")))\n",
    "\n",
    "xs = data.drop(columns = [\"players_right_now\"])\n",
    "ys = data[\"players_right_now\"]\n",
    "\n",
    "train_x, test_x, train_y, test_y = train_test_split( xs, ys, train_size = 0.7)\n",
    "print(train_x, test_x, train_y, test_y)"
   ]
  },
  {
   "cell_type": "code",
   "execution_count": 15,
   "id": "69b4b49d-a09c-4d22-be28-82a2d435d6d3",
   "metadata": {},
   "outputs": [
    {
     "data": {
      "text/html": [
       "<style>#sk-container-id-4 {color: black;background-color: white;}#sk-container-id-4 pre{padding: 0;}#sk-container-id-4 div.sk-toggleable {background-color: white;}#sk-container-id-4 label.sk-toggleable__label {cursor: pointer;display: block;width: 100%;margin-bottom: 0;padding: 0.3em;box-sizing: border-box;text-align: center;}#sk-container-id-4 label.sk-toggleable__label-arrow:before {content: \"▸\";float: left;margin-right: 0.25em;color: #696969;}#sk-container-id-4 label.sk-toggleable__label-arrow:hover:before {color: black;}#sk-container-id-4 div.sk-estimator:hover label.sk-toggleable__label-arrow:before {color: black;}#sk-container-id-4 div.sk-toggleable__content {max-height: 0;max-width: 0;overflow: hidden;text-align: left;background-color: #f0f8ff;}#sk-container-id-4 div.sk-toggleable__content pre {margin: 0.2em;color: black;border-radius: 0.25em;background-color: #f0f8ff;}#sk-container-id-4 input.sk-toggleable__control:checked~div.sk-toggleable__content {max-height: 200px;max-width: 100%;overflow: auto;}#sk-container-id-4 input.sk-toggleable__control:checked~label.sk-toggleable__label-arrow:before {content: \"▾\";}#sk-container-id-4 div.sk-estimator input.sk-toggleable__control:checked~label.sk-toggleable__label {background-color: #d4ebff;}#sk-container-id-4 div.sk-label input.sk-toggleable__control:checked~label.sk-toggleable__label {background-color: #d4ebff;}#sk-container-id-4 input.sk-hidden--visually {border: 0;clip: rect(1px 1px 1px 1px);clip: rect(1px, 1px, 1px, 1px);height: 1px;margin: -1px;overflow: hidden;padding: 0;position: absolute;width: 1px;}#sk-container-id-4 div.sk-estimator {font-family: monospace;background-color: #f0f8ff;border: 1px dotted black;border-radius: 0.25em;box-sizing: border-box;margin-bottom: 0.5em;}#sk-container-id-4 div.sk-estimator:hover {background-color: #d4ebff;}#sk-container-id-4 div.sk-parallel-item::after {content: \"\";width: 100%;border-bottom: 1px solid gray;flex-grow: 1;}#sk-container-id-4 div.sk-label:hover label.sk-toggleable__label {background-color: #d4ebff;}#sk-container-id-4 div.sk-serial::before {content: \"\";position: absolute;border-left: 1px solid gray;box-sizing: border-box;top: 0;bottom: 0;left: 50%;z-index: 0;}#sk-container-id-4 div.sk-serial {display: flex;flex-direction: column;align-items: center;background-color: white;padding-right: 0.2em;padding-left: 0.2em;position: relative;}#sk-container-id-4 div.sk-item {position: relative;z-index: 1;}#sk-container-id-4 div.sk-parallel {display: flex;align-items: stretch;justify-content: center;background-color: white;position: relative;}#sk-container-id-4 div.sk-item::before, #sk-container-id-4 div.sk-parallel-item::before {content: \"\";position: absolute;border-left: 1px solid gray;box-sizing: border-box;top: 0;bottom: 0;left: 50%;z-index: -1;}#sk-container-id-4 div.sk-parallel-item {display: flex;flex-direction: column;z-index: 1;position: relative;background-color: white;}#sk-container-id-4 div.sk-parallel-item:first-child::after {align-self: flex-end;width: 50%;}#sk-container-id-4 div.sk-parallel-item:last-child::after {align-self: flex-start;width: 50%;}#sk-container-id-4 div.sk-parallel-item:only-child::after {width: 0;}#sk-container-id-4 div.sk-dashed-wrapped {border: 1px dashed gray;margin: 0 0.4em 0.5em 0.4em;box-sizing: border-box;padding-bottom: 0.4em;background-color: white;}#sk-container-id-4 div.sk-label label {font-family: monospace;font-weight: bold;display: inline-block;line-height: 1.2em;}#sk-container-id-4 div.sk-label-container {text-align: center;}#sk-container-id-4 div.sk-container {/* jupyter's `normalize.less` sets `[hidden] { display: none; }` but bootstrap.min.css set `[hidden] { display: none !important; }` so we also need the `!important` here to be able to override the default hidden behavior on the sphinx rendered scikit-learn.org. See: https://github.com/scikit-learn/scikit-learn/issues/21755 */display: inline-block !important;position: relative;}#sk-container-id-4 div.sk-text-repr-fallback {display: none;}</style><div id=\"sk-container-id-4\" class=\"sk-top-container\"><div class=\"sk-text-repr-fallback\"><pre>Pipeline(steps=[(&#x27;scale&#x27;, MinMaxScaler()),\n",
       "                (&#x27;predict&#x27;, LinearRegression(n_jobs=-1))])</pre><b>In a Jupyter environment, please rerun this cell to show the HTML representation or trust the notebook. <br />On GitHub, the HTML representation is unable to render, please try loading this page with nbviewer.org.</b></div><div class=\"sk-container\" hidden><div class=\"sk-item sk-dashed-wrapped\"><div class=\"sk-label-container\"><div class=\"sk-label sk-toggleable\"><input class=\"sk-toggleable__control sk-hidden--visually\" id=\"sk-estimator-id-10\" type=\"checkbox\" ><label for=\"sk-estimator-id-10\" class=\"sk-toggleable__label sk-toggleable__label-arrow\">Pipeline</label><div class=\"sk-toggleable__content\"><pre>Pipeline(steps=[(&#x27;scale&#x27;, MinMaxScaler()),\n",
       "                (&#x27;predict&#x27;, LinearRegression(n_jobs=-1))])</pre></div></div></div><div class=\"sk-serial\"><div class=\"sk-item\"><div class=\"sk-estimator sk-toggleable\"><input class=\"sk-toggleable__control sk-hidden--visually\" id=\"sk-estimator-id-11\" type=\"checkbox\" ><label for=\"sk-estimator-id-11\" class=\"sk-toggleable__label sk-toggleable__label-arrow\">MinMaxScaler</label><div class=\"sk-toggleable__content\"><pre>MinMaxScaler()</pre></div></div></div><div class=\"sk-item\"><div class=\"sk-estimator sk-toggleable\"><input class=\"sk-toggleable__control sk-hidden--visually\" id=\"sk-estimator-id-12\" type=\"checkbox\" ><label for=\"sk-estimator-id-12\" class=\"sk-toggleable__label sk-toggleable__label-arrow\">LinearRegression</label><div class=\"sk-toggleable__content\"><pre>LinearRegression(n_jobs=-1)</pre></div></div></div></div></div></div></div>"
      ],
      "text/plain": [
       "Pipeline(steps=[('scale', MinMaxScaler()),\n",
       "                ('predict', LinearRegression(n_jobs=-1))])"
      ]
     },
     "execution_count": 15,
     "metadata": {},
     "output_type": "execute_result"
    }
   ],
   "source": [
    "steps = [\n",
    "    (\"scale\", MinMaxScaler()),\n",
    "    (\"predict\", LinearRegression(n_jobs=-1))\n",
    "]\n",
    "\n",
    "pipline = Pipeline(steps)\n",
    "\n",
    "pipline.fit(train_x, train_y)"
   ]
  },
  {
   "cell_type": "code",
   "execution_count": 16,
   "id": "3f76076d-e2d4-4c71-8100-e7001ca68272",
   "metadata": {},
   "outputs": [
    {
     "data": {
      "text/plain": [
       "0.4506246964117605"
      ]
     },
     "execution_count": 16,
     "metadata": {},
     "output_type": "execute_result"
    }
   ],
   "source": [
    "predict_y = pipline.predict(test_x)\n",
    "r2_score(test_y, predict_y)"
   ]
  },
  {
   "cell_type": "markdown",
   "id": "04ac4a1e-3372-4fbc-ac1c-003183b662eb",
   "metadata": {},
   "source": [
    "### Why I chose the feature columns\n",
    "The target column describes how many players are currently playing a given game. Below is the rationale for why I included each feature column.\n",
    "- __release__: Usually older games have fewer players, so I was hoping the model to be able to learn that the lower the date is, the lower the current player could is likely to be.\n",
    "- __peak_players__: If games have had many players at one point, there is a likely chance that the current amount of players could be some fraction of that. I was expecting the model to learn a positive relationship between this feature and the target.\n",
    "- __total_reviews__: Peak_players is not enough however. Some games get really popular, but the replayability is low, so player count dies out. This would lead to a low total_review count. I was hoping this feature would help with edge cases where games get really popular, but die out quickly. The more the reviews for a game there are, the more likely it is to still have players.\n",
    "- __rating__: If a game isn't fun, people are less likely to keep playing. I expected to model to learn a positive coorelation between rating and current player count.\n",
    "### Analyzing performance\n",
    "After running the model a few times, the prediction r2 score has a very high standard devation. Sometimes it dips down below 0.1, and other times it goes above 0.8. However, I'd say it averages around 0.4. After creating a correlation table, release and rating both have a correlation with players_right_now of less than 0.06. The feature that is the highest coorelated with the target is peak_players (correlation of 0.733), and the total_reviews has a correlation 0.6 (however, it also has a correlation of 0.75 with peak_players). Essentially, the only feature that is usefull to the model is peak_players, so my model can't be that accurate to begin with. Predicting the current players would require more features, as my model has to essentially learn the replayability of a game. To do this, more helpful features would be needed. In addition, I don't think this data is linear, and it would help to run this pipeline through a grid search with transformed regressors. The target also has an overwhelming amount of 0's. The test split could have targets that are all 0, while the train dataset would be getting more of the numerical numbers.\n",
    "### Why I chose r2\n",
    "Since I chose to do a linear regression model, I thought r2 would be a good way to measure its effectivness. This is because the r2 score measures how well my linear regression model \"fits\" the data (or how much variance is unaccounted for). Since linear regression is trying to fit the data to a line (or the linear combination of each feature) in order to predict the target, the r2 score measures the inaccuracy of this equation."
   ]
  }
 ],
 "metadata": {
  "kernelspec": {
   "display_name": "Python [conda env:machine_learning]",
   "language": "python",
   "name": "conda-env-machine_learning-py"
  },
  "language_info": {
   "codemirror_mode": {
    "name": "ipython",
    "version": 3
   },
   "file_extension": ".py",
   "mimetype": "text/x-python",
   "name": "python",
   "nbconvert_exporter": "python",
   "pygments_lexer": "ipython3",
   "version": "3.11.5"
  }
 },
 "nbformat": 4,
 "nbformat_minor": 5
}
